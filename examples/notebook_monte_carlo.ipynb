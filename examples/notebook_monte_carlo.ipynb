{
 "cells": [
  {
   "cell_type": "markdown",
   "id": "b3570a0d",
   "metadata": {},
   "source": [
    "# Monte Carlo notebook tour\n",
    "\n",
    "This notebook walks through two ways to configure and visualise Monte Carlo analyses with Circuit Toolkit:\n",
    "1. Build the circuit directly in Python.\n",
    "2. Import an LTspice `.asc` schematic and run the same workflow.\n",
    "\n",
    "Each section generates a small sample size and uses the interactive Plotly helpers. Tweak the number of trials or the SPICE engine as needed."
   ]
  },
  {
   "cell_type": "markdown",
   "id": "0334a1a0",
   "metadata": {},
   "source": [
    "## Requirements\n",
    "\n",
    "Install the visualisation extras and make sure a SPICE engine (for example `ngspice`) is on your PATH:\n",
    "\n",
    "```bash\n",
    "pip install circuit-toolkit[viz]\n",
    "```\n",
    "\n",
    "Update the `ENGINE` constant in the next cell if you prefer `ltspice` or `xyce`."
   ]
  },
  {
   "cell_type": "code",
   "execution_count": 1,
   "id": "c8e1dff2",
   "metadata": {},
   "outputs": [],
   "source": [
    "# Shared imports and helpers\n",
    "from collections.abc import Iterable\n",
    "from pathlib import Path\n",
    "\n",
    "import numpy as np\n",
    "from spicelab.analysis import NormalPct, monte_carlo\n",
    "from spicelab.core.circuit import Circuit\n",
    "from spicelab.core.components import Capacitor, Resistor, Vdc\n",
    "from spicelab.core.net import GND, Net\n",
    "from spicelab.core.types import AnalysisSpec\n",
    "from spicelab.io.ltspice_asc import circuit_from_asc\n",
    "from spicelab.viz import monte_carlo_histogram, monte_carlo_param_scatter\n",
    "\n",
    "ENGINE = \"ngspice\"\n",
    "TRANSIENT = AnalysisSpec(\"tran\", {\"tstep\": 1e-5, \"tstop\": 2e-3})\n",
    "\n",
    "\n",
    "def find_component_by_ref(circuit: Circuit, ref: str):\n",
    "    for component in getattr(circuit, \"_components\", []):\n",
    "        if getattr(component, \"ref\", None) == ref:\n",
    "            return component\n",
    "    raise KeyError(f\"Component '{ref}' not found in the circuit\")\n",
    "\n",
    "\n",
    "def resolve_trace(result, target: str):\n",
    "    target_lower = target.lower()\n",
    "    for name in result.traces.names:\n",
    "        if name.lower() == target_lower:\n",
    "            return result.traces[name]\n",
    "    available = \", \".join(result.traces.names)\n",
    "    raise KeyError(f\"Trace '{target}' not found. Available signals: {available}\")\n",
    "\n",
    "\n",
    "def metric_vout_final(result):\n",
    "    trace = resolve_trace(result, \"v(vout)\")\n",
    "    return {\"vout_final\": float(np.real(trace.values[-1]))}\n",
    "\n",
    "\n",
    "def run_monte_carlo(\n",
    "    circuit: Circuit,\n",
    "    mapping: dict,\n",
    "    *,\n",
    "    n: int = 40,\n",
    "    seed: int | None = None,\n",
    "    analyses: Iterable[AnalysisSpec] | None = None,\n",
    "):\n",
    "    analyses = list(analyses) if analyses is not None else [TRANSIENT]\n",
    "    return monte_carlo(\n",
    "        circuit=circuit,\n",
    "        mapping=mapping,\n",
    "        n=n,\n",
    "        seed=seed,\n",
    "        analyses=analyses,\n",
    "        engine=ENGINE,\n",
    "    )\n",
    "\n",
    "\n",
    "def show_mc_plots(samples, metrics, param_label: str, *, title_prefix: str):\n",
    "    hist = monte_carlo_histogram(metrics, title=f\"{title_prefix} – metric distribution\")\n",
    "    hist.show()\n",
    "    scatter = monte_carlo_param_scatter(\n",
    "        samples,\n",
    "        metrics,\n",
    "        param=param_label,\n",
    "        title=f\"{title_prefix} – impact of {param_label}\",\n",
    "        ylabel=\"vout_final\",\n",
    "    )\n",
    "    scatter.show()"
   ]
  },
  {
   "cell_type": "markdown",
   "id": "0619ae75",
   "metadata": {},
   "source": [
    "## Example 1 – circuit created in code\n",
    "\n",
    "We build a simple RC filter via the core API and run Monte Carlo varying R1 and C1. The transient analysis captures the final value of `V(vout)` as the metric."
   ]
  },
  {
   "cell_type": "code",
   "execution_count": 2,
   "id": "fb66a6ac",
   "metadata": {},
   "outputs": [
    {
     "data": {
      "text/plain": [
       "Circuit(name='rc_code_mc', _net_ids={}, _port_to_net={Port(owner=<Vdc V1 value=5.0>, name='p', role=<PortRole.POSITIVE: 1>): Net(name='vin'), Port(owner=<Vdc V1 value=5.0>, name='n', role=<PortRole.NEGATIVE: 2>): Net(name='0'), Port(owner=<Resistor R1 value='10k'>, name='a', role=<PortRole.POSITIVE: 1>): Net(name='vin'), Port(owner=<Resistor R1 value='10k'>, name='b', role=<PortRole.NEGATIVE: 2>): Net(name='vout'), Port(owner=<Capacitor C1 value='10n'>, name='a', role=<PortRole.POSITIVE: 1>): Net(name='vout'), Port(owner=<Capacitor C1 value='10n'>, name='b', role=<PortRole.NEGATIVE: 2>): Net(name='0')}, _components=[<Vdc V1 value=5.0>, <Resistor R1 value='10k'>, <Capacitor C1 value='10n'>], _directives=[], _subckt_defs={}, _subckt_instances=[])"
      ]
     },
     "execution_count": 2,
     "metadata": {},
     "output_type": "execute_result"
    }
   ],
   "source": [
    "# Build the circuit in Python\n",
    "code_circuit = Circuit(\"rc_code_mc\")\n",
    "vin = Net(\"vin\")\n",
    "vout = Net(\"vout\")\n",
    "\n",
    "v1 = Vdc(\"V1\", 5.0)\n",
    "r1 = Resistor(\"R1\", \"10k\")\n",
    "c1 = Capacitor(\"C1\", \"10n\")\n",
    "\n",
    "code_circuit.add(v1, r1, c1)\n",
    "code_circuit.connect(v1.ports[0], vin)\n",
    "code_circuit.connect(v1.ports[1], GND)\n",
    "code_circuit.connect(r1.ports[0], vin)\n",
    "code_circuit.connect(r1.ports[1], vout)\n",
    "code_circuit.connect(c1.ports[0], vout)\n",
    "code_circuit.connect(c1.ports[1], GND)\n",
    "\n",
    "code_circuit"
   ]
  },
  {
   "cell_type": "code",
   "execution_count": 3,
   "id": "174259af",
   "metadata": {},
   "outputs": [
    {
     "name": "stdout",
     "output_type": "stream",
     "text": [
      "* rc_code_mc\n",
      "VV1 vin 0 5.0\n",
      "RR1 vin vout 10k\n",
      "CC1 vout 0 10n\n",
      ".end\n",
      "\n"
     ]
    }
   ],
   "source": [
    "# Generated netlist for reference\n",
    "print(code_circuit.build_netlist())"
   ]
  },
  {
   "cell_type": "code",
   "execution_count": 4,
   "id": "9549ed71",
   "metadata": {},
   "outputs": [
    {
     "data": {
      "text/html": [
       "<div>\n",
       "<style scoped>\n",
       "    .dataframe tbody tr th:only-of-type {\n",
       "        vertical-align: middle;\n",
       "    }\n",
       "\n",
       "    .dataframe tbody tr th {\n",
       "        vertical-align: top;\n",
       "    }\n",
       "\n",
       "    .dataframe thead th {\n",
       "        text-align: right;\n",
       "    }\n",
       "</style>\n",
       "<table border=\"1\" class=\"dataframe\">\n",
       "  <thead>\n",
       "    <tr style=\"text-align: right;\">\n",
       "      <th></th>\n",
       "      <th>param_Resistor.R1</th>\n",
       "      <th>param_Capacitor.C1</th>\n",
       "      <th>trial</th>\n",
       "      <th>vout_final</th>\n",
       "    </tr>\n",
       "  </thead>\n",
       "  <tbody>\n",
       "    <tr>\n",
       "      <th>0</th>\n",
       "      <td>9207.078078</td>\n",
       "      <td>1.030158e-08</td>\n",
       "      <td>0</td>\n",
       "      <td>5.0</td>\n",
       "    </tr>\n",
       "    <tr>\n",
       "      <th>1</th>\n",
       "      <td>9653.825902</td>\n",
       "      <td>1.197147e-08</td>\n",
       "      <td>1</td>\n",
       "      <td>5.0</td>\n",
       "    </tr>\n",
       "    <tr>\n",
       "      <th>2</th>\n",
       "      <td>9329.347041</td>\n",
       "      <td>1.085017e-08</td>\n",
       "      <td>2</td>\n",
       "      <td>5.0</td>\n",
       "    </tr>\n",
       "    <tr>\n",
       "      <th>3</th>\n",
       "      <td>9964.190158</td>\n",
       "      <td>1.074658e-08</td>\n",
       "      <td>3</td>\n",
       "      <td>5.0</td>\n",
       "    </tr>\n",
       "    <tr>\n",
       "      <th>4</th>\n",
       "      <td>10225.014063</td>\n",
       "      <td>8.915110e-09</td>\n",
       "      <td>4</td>\n",
       "      <td>5.0</td>\n",
       "    </tr>\n",
       "  </tbody>\n",
       "</table>\n",
       "</div>"
      ],
      "text/plain": [
       "   param_Resistor.R1  param_Capacitor.C1  trial  vout_final\n",
       "0        9207.078078        1.030158e-08      0         5.0\n",
       "1        9653.825902        1.197147e-08      1         5.0\n",
       "2        9329.347041        1.085017e-08      2         5.0\n",
       "3        9964.190158        1.074658e-08      3         5.0\n",
       "4       10225.014063        8.915110e-09      4         5.0"
      ]
     },
     "execution_count": 4,
     "metadata": {},
     "output_type": "execute_result"
    }
   ],
   "source": [
    "# Monte Carlo: vary R1 (5%) and C1 (10%)\n",
    "code_mapping = {\n",
    "    r1: NormalPct(0.05),\n",
    "    c1: NormalPct(0.10),\n",
    "}\n",
    "code_mc = run_monte_carlo(code_circuit, code_mapping, n=80, seed=2024)\n",
    "code_df = code_mc.to_dataframe(metric=metric_vout_final, param_prefix=\"param_\")\n",
    "code_df.head()"
   ]
  },
  {
   "cell_type": "code",
   "execution_count": 5,
   "id": "e012da23",
   "metadata": {},
   "outputs": [
    {
     "ename": "ValueError",
     "evalue": "Too many bins for data range. Cannot create 50 finite-sized bins.",
     "output_type": "error",
     "traceback": [
      "\u001b[0;31m---------------------------------------------------------------------------\u001b[0m",
      "\u001b[0;31mValueError\u001b[0m                                Traceback (most recent call last)",
      "Cell \u001b[0;32mIn[5], line 4\u001b[0m\n\u001b[1;32m      1\u001b[0m \u001b[38;5;66;03m# Visualise the results\u001b[39;00m\n\u001b[1;32m      2\u001b[0m \u001b[38;5;66;03m#!pip install nbformat==5.0.2\u001b[39;00m\n\u001b[1;32m      3\u001b[0m code_metrics \u001b[38;5;241m=\u001b[39m code_df[\u001b[38;5;124m\"\u001b[39m\u001b[38;5;124mvout_final\u001b[39m\u001b[38;5;124m\"\u001b[39m]\u001b[38;5;241m.\u001b[39mto_list()\n\u001b[0;32m----> 4\u001b[0m \u001b[43mshow_mc_plots\u001b[49m\u001b[43m(\u001b[49m\u001b[43mcode_mc\u001b[49m\u001b[38;5;241;43m.\u001b[39;49m\u001b[43msamples\u001b[49m\u001b[43m,\u001b[49m\u001b[43m \u001b[49m\u001b[43mcode_metrics\u001b[49m\u001b[43m,\u001b[49m\u001b[43m \u001b[49m\u001b[38;5;124;43m\"\u001b[39;49m\u001b[38;5;124;43mResistor.R1\u001b[39;49m\u001b[38;5;124;43m\"\u001b[39;49m\u001b[43m,\u001b[49m\u001b[43m \u001b[49m\u001b[43mtitle_prefix\u001b[49m\u001b[38;5;241;43m=\u001b[39;49m\u001b[38;5;124;43m\"\u001b[39;49m\u001b[38;5;124;43mCode circuit\u001b[39;49m\u001b[38;5;124;43m\"\u001b[39;49m\u001b[43m)\u001b[49m\n",
      "Cell \u001b[0;32mIn[1], line 60\u001b[0m, in \u001b[0;36mshow_mc_plots\u001b[0;34m(samples, metrics, param_label, title_prefix)\u001b[0m\n\u001b[1;32m     59\u001b[0m \u001b[38;5;28;01mdef\u001b[39;00m\u001b[38;5;250m \u001b[39m\u001b[38;5;21mshow_mc_plots\u001b[39m(samples, metrics, param_label: \u001b[38;5;28mstr\u001b[39m, \u001b[38;5;241m*\u001b[39m, title_prefix: \u001b[38;5;28mstr\u001b[39m):\n\u001b[0;32m---> 60\u001b[0m     hist \u001b[38;5;241m=\u001b[39m \u001b[43mmonte_carlo_histogram\u001b[49m\u001b[43m(\u001b[49m\u001b[43mmetrics\u001b[49m\u001b[43m,\u001b[49m\u001b[43m \u001b[49m\u001b[43mtitle\u001b[49m\u001b[38;5;241;43m=\u001b[39;49m\u001b[38;5;124;43mf\u001b[39;49m\u001b[38;5;124;43m\"\u001b[39;49m\u001b[38;5;132;43;01m{\u001b[39;49;00m\u001b[43mtitle_prefix\u001b[49m\u001b[38;5;132;43;01m}\u001b[39;49;00m\u001b[38;5;124;43m – metric distribution\u001b[39;49m\u001b[38;5;124;43m\"\u001b[39;49m\u001b[43m)\u001b[49m\n\u001b[1;32m     61\u001b[0m     hist\u001b[38;5;241m.\u001b[39mshow()\n\u001b[1;32m     62\u001b[0m     scatter \u001b[38;5;241m=\u001b[39m monte_carlo_param_scatter(\n\u001b[1;32m     63\u001b[0m         samples,\n\u001b[1;32m     64\u001b[0m         metrics,\n\u001b[0;32m   (...)\u001b[0m\n\u001b[1;32m     67\u001b[0m         ylabel\u001b[38;5;241m=\u001b[39m\u001b[38;5;124m\"\u001b[39m\u001b[38;5;124mvout_final\u001b[39m\u001b[38;5;124m\"\u001b[39m,\n\u001b[1;32m     68\u001b[0m     )\n",
      "File \u001b[0;32m~/Documents/01 - Codes/01 - Github/circuit_toolkit/.venv310/lib/python3.10/site-packages/spicelab/viz/plotly.py:546\u001b[0m, in \u001b[0;36mmonte_carlo_histogram\u001b[0;34m(metrics, title, bins, xlabel, ylabel, template, show_normal_fit)\u001b[0m\n\u001b[1;32m    544\u001b[0m \u001b[38;5;28;01mif\u001b[39;00m sigma \u001b[38;5;241m>\u001b[39m \u001b[38;5;241m0.0\u001b[39m:\n\u001b[1;32m    545\u001b[0m     mu \u001b[38;5;241m=\u001b[39m \u001b[38;5;28mfloat\u001b[39m(values\u001b[38;5;241m.\u001b[39mmean())\n\u001b[0;32m--> 546\u001b[0m     edges \u001b[38;5;241m=\u001b[39m \u001b[43mnp\u001b[49m\u001b[38;5;241;43m.\u001b[39;49m\u001b[43mhistogram_bin_edges\u001b[49m\u001b[43m(\u001b[49m\u001b[43mvalues\u001b[49m\u001b[43m,\u001b[49m\u001b[43m \u001b[49m\u001b[43mbins\u001b[49m\u001b[38;5;241;43m=\u001b[39;49m\u001b[43mbins\u001b[49m\u001b[43m)\u001b[49m\n\u001b[1;32m    547\u001b[0m     xs \u001b[38;5;241m=\u001b[39m np\u001b[38;5;241m.\u001b[39mlinspace(edges[\u001b[38;5;241m0\u001b[39m], edges[\u001b[38;5;241m-\u001b[39m\u001b[38;5;241m1\u001b[39m], \u001b[38;5;241m256\u001b[39m)\n\u001b[1;32m    548\u001b[0m     bin_width \u001b[38;5;241m=\u001b[39m (edges[\u001b[38;5;241m-\u001b[39m\u001b[38;5;241m1\u001b[39m] \u001b[38;5;241m-\u001b[39m edges[\u001b[38;5;241m0\u001b[39m]) \u001b[38;5;241m/\u001b[39m \u001b[38;5;28mmax\u001b[39m(bins, \u001b[38;5;241m1\u001b[39m)\n",
      "File \u001b[0;32m~/Documents/01 - Codes/01 - Github/circuit_toolkit/.venv310/lib/python3.10/site-packages/numpy/lib/_histograms_impl.py:680\u001b[0m, in \u001b[0;36mhistogram_bin_edges\u001b[0;34m(a, bins, range, weights)\u001b[0m\n\u001b[1;32m    479\u001b[0m \u001b[38;5;250m\u001b[39m\u001b[38;5;124mr\u001b[39m\u001b[38;5;124;03m\"\"\"\u001b[39;00m\n\u001b[1;32m    480\u001b[0m \u001b[38;5;124;03mFunction to calculate only the edges of the bins used by the `histogram`\u001b[39;00m\n\u001b[1;32m    481\u001b[0m \u001b[38;5;124;03mfunction.\u001b[39;00m\n\u001b[0;32m   (...)\u001b[0m\n\u001b[1;32m    677\u001b[0m \n\u001b[1;32m    678\u001b[0m \u001b[38;5;124;03m\"\"\"\u001b[39;00m\n\u001b[1;32m    679\u001b[0m a, weights \u001b[38;5;241m=\u001b[39m _ravel_and_check_weights(a, weights)\n\u001b[0;32m--> 680\u001b[0m bin_edges, _ \u001b[38;5;241m=\u001b[39m \u001b[43m_get_bin_edges\u001b[49m\u001b[43m(\u001b[49m\u001b[43ma\u001b[49m\u001b[43m,\u001b[49m\u001b[43m \u001b[49m\u001b[43mbins\u001b[49m\u001b[43m,\u001b[49m\u001b[43m \u001b[49m\u001b[38;5;28;43mrange\u001b[39;49m\u001b[43m,\u001b[49m\u001b[43m \u001b[49m\u001b[43mweights\u001b[49m\u001b[43m)\u001b[49m\n\u001b[1;32m    681\u001b[0m \u001b[38;5;28;01mreturn\u001b[39;00m bin_edges\n",
      "File \u001b[0;32m~/Documents/01 - Codes/01 - Github/circuit_toolkit/.venv310/lib/python3.10/site-packages/numpy/lib/_histograms_impl.py:453\u001b[0m, in \u001b[0;36m_get_bin_edges\u001b[0;34m(a, bins, range, weights)\u001b[0m\n\u001b[1;32m    449\u001b[0m     bin_edges \u001b[38;5;241m=\u001b[39m np\u001b[38;5;241m.\u001b[39mlinspace(\n\u001b[1;32m    450\u001b[0m         first_edge, last_edge, n_equal_bins \u001b[38;5;241m+\u001b[39m \u001b[38;5;241m1\u001b[39m,\n\u001b[1;32m    451\u001b[0m         endpoint\u001b[38;5;241m=\u001b[39m\u001b[38;5;28;01mTrue\u001b[39;00m, dtype\u001b[38;5;241m=\u001b[39mbin_type)\n\u001b[1;32m    452\u001b[0m     \u001b[38;5;28;01mif\u001b[39;00m np\u001b[38;5;241m.\u001b[39many(bin_edges[:\u001b[38;5;241m-\u001b[39m\u001b[38;5;241m1\u001b[39m] \u001b[38;5;241m>\u001b[39m\u001b[38;5;241m=\u001b[39m bin_edges[\u001b[38;5;241m1\u001b[39m:]):\n\u001b[0;32m--> 453\u001b[0m         \u001b[38;5;28;01mraise\u001b[39;00m \u001b[38;5;167;01mValueError\u001b[39;00m(\n\u001b[1;32m    454\u001b[0m             \u001b[38;5;124mf\u001b[39m\u001b[38;5;124m'\u001b[39m\u001b[38;5;124mToo many bins for data range. Cannot create \u001b[39m\u001b[38;5;132;01m{\u001b[39;00mn_equal_bins\u001b[38;5;132;01m}\u001b[39;00m\u001b[38;5;124m \u001b[39m\u001b[38;5;124m'\u001b[39m\n\u001b[1;32m    455\u001b[0m             \u001b[38;5;124mf\u001b[39m\u001b[38;5;124m'\u001b[39m\u001b[38;5;124mfinite-sized bins.\u001b[39m\u001b[38;5;124m'\u001b[39m)\n\u001b[1;32m    456\u001b[0m     \u001b[38;5;28;01mreturn\u001b[39;00m bin_edges, (first_edge, last_edge, n_equal_bins)\n\u001b[1;32m    457\u001b[0m \u001b[38;5;28;01melse\u001b[39;00m:\n",
      "\u001b[0;31mValueError\u001b[0m: Too many bins for data range. Cannot create 50 finite-sized bins."
     ]
    }
   ],
   "source": [
    "# Visualise the results\n",
    "#!pip install nbformat==5.0.2\n",
    "code_metrics = code_df[\"vout_final\"].to_list()\n",
    "show_mc_plots(code_mc.samples, code_metrics, \"Resistor.R1\", title_prefix=\"Code circuit\")"
   ]
  },
  {
   "cell_type": "markdown",
   "id": "d56aee52",
   "metadata": {},
   "source": [
    "## Example 2 – circuit imported from an `.asc`\n",
    "\n",
    "Now we load an LTspice schematic (`examples/rc_lowpass.asc`), convert it to a `Circuit`, run Monte Carlo, and reuse the same utilities. The `.asc` file was generated via Circuit Toolkit so it is compatible with the parser."
   ]
  },
  {
   "cell_type": "code",
   "execution_count": null,
   "id": "21578c32",
   "metadata": {},
   "outputs": [
    {
     "name": "stdout",
     "output_type": "stream",
     "text": [
      "Circuit imported from rc_lowpass.asc\n",
      "* ltspice_import\n",
      "VV1 vin 0 5.0\n",
      "RR1 vin vout 10k\n",
      "CC1 vout 0 10n\n",
      ".end\n",
      "\n"
     ]
    }
   ],
   "source": [
    "# Load the LTspice schematic\n",
    "asc_path = Path(\"rc_lowpass.asc\")\n",
    "lt_circuit = circuit_from_asc(asc_path)\n",
    "lt_r1 = find_component_by_ref(lt_circuit, \"R1\")\n",
    "lt_c1 = find_component_by_ref(lt_circuit, \"C1\")\n",
    "print(f\"Circuit imported from {asc_path}\")\n",
    "print(lt_circuit.build_netlist())"
   ]
  },
  {
   "cell_type": "code",
   "execution_count": null,
   "id": "922b08fe",
   "metadata": {},
   "outputs": [
    {
     "data": {
      "text/html": [
       "<div>\n",
       "<style scoped>\n",
       "    .dataframe tbody tr th:only-of-type {\n",
       "        vertical-align: middle;\n",
       "    }\n",
       "\n",
       "    .dataframe tbody tr th {\n",
       "        vertical-align: top;\n",
       "    }\n",
       "\n",
       "    .dataframe thead th {\n",
       "        text-align: right;\n",
       "    }\n",
       "</style>\n",
       "<table border=\"1\" class=\"dataframe\">\n",
       "  <thead>\n",
       "    <tr style=\"text-align: right;\">\n",
       "      <th></th>\n",
       "      <th>param_Resistor.R1</th>\n",
       "      <th>param_Capacitor.C1</th>\n",
       "      <th>trial</th>\n",
       "      <th>vout_final</th>\n",
       "    </tr>\n",
       "  </thead>\n",
       "  <tbody>\n",
       "    <tr>\n",
       "      <th>0</th>\n",
       "      <td>10115.504341</td>\n",
       "      <td>9.653163e-09</td>\n",
       "      <td>0</td>\n",
       "      <td>5.0</td>\n",
       "    </tr>\n",
       "    <tr>\n",
       "      <th>1</th>\n",
       "      <td>9346.569427</td>\n",
       "      <td>9.547926e-09</td>\n",
       "      <td>1</td>\n",
       "      <td>5.0</td>\n",
       "    </tr>\n",
       "    <tr>\n",
       "      <th>2</th>\n",
       "      <td>9000.894805</td>\n",
       "      <td>1.064022e-08</td>\n",
       "      <td>2</td>\n",
       "      <td>5.0</td>\n",
       "    </tr>\n",
       "    <tr>\n",
       "      <th>3</th>\n",
       "      <td>9131.571313</td>\n",
       "      <td>9.891544e-09</td>\n",
       "      <td>3</td>\n",
       "      <td>5.0</td>\n",
       "    </tr>\n",
       "    <tr>\n",
       "      <th>4</th>\n",
       "      <td>9801.745640</td>\n",
       "      <td>1.082230e-08</td>\n",
       "      <td>4</td>\n",
       "      <td>5.0</td>\n",
       "    </tr>\n",
       "  </tbody>\n",
       "</table>\n",
       "</div>"
      ],
      "text/plain": [
       "   param_Resistor.R1  param_Capacitor.C1  trial  vout_final\n",
       "0       10115.504341        9.653163e-09      0         5.0\n",
       "1        9346.569427        9.547926e-09      1         5.0\n",
       "2        9000.894805        1.064022e-08      2         5.0\n",
       "3        9131.571313        9.891544e-09      3         5.0\n",
       "4        9801.745640        1.082230e-08      4         5.0"
      ]
     },
     "execution_count": 7,
     "metadata": {},
     "output_type": "execute_result"
    }
   ],
   "source": [
    "# Monte Carlo on the imported circuit\n",
    "lt_mapping = {\n",
    "    lt_r1: NormalPct(0.05),  # 5% sigma around the nominal value\n",
    "    lt_c1: NormalPct(0.10),\n",
    "}\n",
    "lt_mc = run_monte_carlo(lt_circuit, lt_mapping, n=80, seed=2025)\n",
    "lt_df = lt_mc.to_dataframe(metric=metric_vout_final, param_prefix=\"param_\")\n",
    "lt_df.head()"
   ]
  },
  {
   "cell_type": "code",
   "execution_count": null,
   "id": "fbbc68f8",
   "metadata": {},
   "outputs": [
    {
     "data": {
      "application/vnd.plotly.v1+json": {
       "config": {
        "plotlyServerURL": "https://plot.ly"
       },
       "data": [
        {
         "marker": {
          "color": "#2E93fA"
         },
         "nbinsx": 50,
         "opacity": 0.85,
         "type": "histogram",
         "x": [
          5.000000000000004,
          5.000000000000008,
          4.999999999999996,
          4.999999999999999,
          4.999999999999992,
          5.000000000000001,
          5.000000000000001,
          4.999999999999996,
          4.999999999999999,
          5,
          4.999999999999992,
          5.000000000000005,
          4.999999999999989,
          4.999999999999999,
          5.000000000000003,
          4.999999999999999,
          5.000000000000004,
          4.999999999999999,
          4.999999999999998,
          5.000000000000004,
          4.999999999999997,
          5.000000000000002,
          4.999999999999998,
          5.000000000000007,
          4.999999999999988,
          4.999999999999999,
          4.999999999999996,
          4.999999999999996,
          4.999999999999996,
          4.999999999999996,
          4.999999999999994,
          5.000000000000005,
          4.999999999999999,
          4.999999999999985,
          4.99999999999999,
          5.000000000000012,
          5.000000000000008,
          5,
          5.000000000000005,
          5.000000000000001,
          5.000000000000003,
          5.000000000000008,
          5.000000000000003,
          4.999999999999998,
          4.999999999999992,
          4.999999999999996,
          4.999999999999998,
          5.000000000000001,
          5.000000000000001,
          5.00000000000002,
          5.000000000000002,
          5.000000000000002,
          5.000000000000006,
          4.999999999999998,
          4.999999999999996,
          5.000000000000007,
          5.000000000000004,
          4.999999999999999,
          4.999999999999999,
          5.000000000000003,
          4.999999999999991,
          4.999999999999996,
          5.000000000000009,
          5.000000000000001,
          5.000000000000013,
          5.000000000000008,
          4.999999999999997,
          5,
          5.000000000000007,
          5.000000000000001,
          4.999999999999999,
          4.999999999999997,
          5.000000000000003,
          5.000000000000004,
          4.999999999999987,
          4.999999999999998,
          4.999999999999997,
          5.000000000000004,
          5.000000000000008,
          4.999999999999996
         ]
        }
       ],
       "layout": {
        "template": {
         "data": {
          "bar": [
           {
            "error_x": {
             "color": "#2a3f5f"
            },
            "error_y": {
             "color": "#2a3f5f"
            },
            "marker": {
             "line": {
              "color": "white",
              "width": 0.5
             },
             "pattern": {
              "fillmode": "overlay",
              "size": 10,
              "solidity": 0.2
             }
            },
            "type": "bar"
           }
          ],
          "barpolar": [
           {
            "marker": {
             "line": {
              "color": "white",
              "width": 0.5
             },
             "pattern": {
              "fillmode": "overlay",
              "size": 10,
              "solidity": 0.2
             }
            },
            "type": "barpolar"
           }
          ],
          "carpet": [
           {
            "aaxis": {
             "endlinecolor": "#2a3f5f",
             "gridcolor": "#C8D4E3",
             "linecolor": "#C8D4E3",
             "minorgridcolor": "#C8D4E3",
             "startlinecolor": "#2a3f5f"
            },
            "baxis": {
             "endlinecolor": "#2a3f5f",
             "gridcolor": "#C8D4E3",
             "linecolor": "#C8D4E3",
             "minorgridcolor": "#C8D4E3",
             "startlinecolor": "#2a3f5f"
            },
            "type": "carpet"
           }
          ],
          "choropleth": [
           {
            "colorbar": {
             "outlinewidth": 0,
             "ticks": ""
            },
            "type": "choropleth"
           }
          ],
          "contour": [
           {
            "colorbar": {
             "outlinewidth": 0,
             "ticks": ""
            },
            "colorscale": [
             [
              0,
              "#0d0887"
             ],
             [
              0.1111111111111111,
              "#46039f"
             ],
             [
              0.2222222222222222,
              "#7201a8"
             ],
             [
              0.3333333333333333,
              "#9c179e"
             ],
             [
              0.4444444444444444,
              "#bd3786"
             ],
             [
              0.5555555555555556,
              "#d8576b"
             ],
             [
              0.6666666666666666,
              "#ed7953"
             ],
             [
              0.7777777777777778,
              "#fb9f3a"
             ],
             [
              0.8888888888888888,
              "#fdca26"
             ],
             [
              1,
              "#f0f921"
             ]
            ],
            "type": "contour"
           }
          ],
          "contourcarpet": [
           {
            "colorbar": {
             "outlinewidth": 0,
             "ticks": ""
            },
            "type": "contourcarpet"
           }
          ],
          "heatmap": [
           {
            "colorbar": {
             "outlinewidth": 0,
             "ticks": ""
            },
            "colorscale": [
             [
              0,
              "#0d0887"
             ],
             [
              0.1111111111111111,
              "#46039f"
             ],
             [
              0.2222222222222222,
              "#7201a8"
             ],
             [
              0.3333333333333333,
              "#9c179e"
             ],
             [
              0.4444444444444444,
              "#bd3786"
             ],
             [
              0.5555555555555556,
              "#d8576b"
             ],
             [
              0.6666666666666666,
              "#ed7953"
             ],
             [
              0.7777777777777778,
              "#fb9f3a"
             ],
             [
              0.8888888888888888,
              "#fdca26"
             ],
             [
              1,
              "#f0f921"
             ]
            ],
            "type": "heatmap"
           }
          ],
          "histogram": [
           {
            "marker": {
             "pattern": {
              "fillmode": "overlay",
              "size": 10,
              "solidity": 0.2
             }
            },
            "type": "histogram"
           }
          ],
          "histogram2d": [
           {
            "colorbar": {
             "outlinewidth": 0,
             "ticks": ""
            },
            "colorscale": [
             [
              0,
              "#0d0887"
             ],
             [
              0.1111111111111111,
              "#46039f"
             ],
             [
              0.2222222222222222,
              "#7201a8"
             ],
             [
              0.3333333333333333,
              "#9c179e"
             ],
             [
              0.4444444444444444,
              "#bd3786"
             ],
             [
              0.5555555555555556,
              "#d8576b"
             ],
             [
              0.6666666666666666,
              "#ed7953"
             ],
             [
              0.7777777777777778,
              "#fb9f3a"
             ],
             [
              0.8888888888888888,
              "#fdca26"
             ],
             [
              1,
              "#f0f921"
             ]
            ],
            "type": "histogram2d"
           }
          ],
          "histogram2dcontour": [
           {
            "colorbar": {
             "outlinewidth": 0,
             "ticks": ""
            },
            "colorscale": [
             [
              0,
              "#0d0887"
             ],
             [
              0.1111111111111111,
              "#46039f"
             ],
             [
              0.2222222222222222,
              "#7201a8"
             ],
             [
              0.3333333333333333,
              "#9c179e"
             ],
             [
              0.4444444444444444,
              "#bd3786"
             ],
             [
              0.5555555555555556,
              "#d8576b"
             ],
             [
              0.6666666666666666,
              "#ed7953"
             ],
             [
              0.7777777777777778,
              "#fb9f3a"
             ],
             [
              0.8888888888888888,
              "#fdca26"
             ],
             [
              1,
              "#f0f921"
             ]
            ],
            "type": "histogram2dcontour"
           }
          ],
          "mesh3d": [
           {
            "colorbar": {
             "outlinewidth": 0,
             "ticks": ""
            },
            "type": "mesh3d"
           }
          ],
          "parcoords": [
           {
            "line": {
             "colorbar": {
              "outlinewidth": 0,
              "ticks": ""
             }
            },
            "type": "parcoords"
           }
          ],
          "pie": [
           {
            "automargin": true,
            "type": "pie"
           }
          ],
          "scatter": [
           {
            "fillpattern": {
             "fillmode": "overlay",
             "size": 10,
             "solidity": 0.2
            },
            "type": "scatter"
           }
          ],
          "scatter3d": [
           {
            "line": {
             "colorbar": {
              "outlinewidth": 0,
              "ticks": ""
             }
            },
            "marker": {
             "colorbar": {
              "outlinewidth": 0,
              "ticks": ""
             }
            },
            "type": "scatter3d"
           }
          ],
          "scattercarpet": [
           {
            "marker": {
             "colorbar": {
              "outlinewidth": 0,
              "ticks": ""
             }
            },
            "type": "scattercarpet"
           }
          ],
          "scattergeo": [
           {
            "marker": {
             "colorbar": {
              "outlinewidth": 0,
              "ticks": ""
             }
            },
            "type": "scattergeo"
           }
          ],
          "scattergl": [
           {
            "marker": {
             "colorbar": {
              "outlinewidth": 0,
              "ticks": ""
             }
            },
            "type": "scattergl"
           }
          ],
          "scattermap": [
           {
            "marker": {
             "colorbar": {
              "outlinewidth": 0,
              "ticks": ""
             }
            },
            "type": "scattermap"
           }
          ],
          "scattermapbox": [
           {
            "marker": {
             "colorbar": {
              "outlinewidth": 0,
              "ticks": ""
             }
            },
            "type": "scattermapbox"
           }
          ],
          "scatterpolar": [
           {
            "marker": {
             "colorbar": {
              "outlinewidth": 0,
              "ticks": ""
             }
            },
            "type": "scatterpolar"
           }
          ],
          "scatterpolargl": [
           {
            "marker": {
             "colorbar": {
              "outlinewidth": 0,
              "ticks": ""
             }
            },
            "type": "scatterpolargl"
           }
          ],
          "scatterternary": [
           {
            "marker": {
             "colorbar": {
              "outlinewidth": 0,
              "ticks": ""
             }
            },
            "type": "scatterternary"
           }
          ],
          "surface": [
           {
            "colorbar": {
             "outlinewidth": 0,
             "ticks": ""
            },
            "colorscale": [
             [
              0,
              "#0d0887"
             ],
             [
              0.1111111111111111,
              "#46039f"
             ],
             [
              0.2222222222222222,
              "#7201a8"
             ],
             [
              0.3333333333333333,
              "#9c179e"
             ],
             [
              0.4444444444444444,
              "#bd3786"
             ],
             [
              0.5555555555555556,
              "#d8576b"
             ],
             [
              0.6666666666666666,
              "#ed7953"
             ],
             [
              0.7777777777777778,
              "#fb9f3a"
             ],
             [
              0.8888888888888888,
              "#fdca26"
             ],
             [
              1,
              "#f0f921"
             ]
            ],
            "type": "surface"
           }
          ],
          "table": [
           {
            "cells": {
             "fill": {
              "color": "#EBF0F8"
             },
             "line": {
              "color": "white"
             }
            },
            "header": {
             "fill": {
              "color": "#C8D4E3"
             },
             "line": {
              "color": "white"
             }
            },
            "type": "table"
           }
          ]
         },
         "layout": {
          "annotationdefaults": {
           "arrowcolor": "#2a3f5f",
           "arrowhead": 0,
           "arrowwidth": 1
          },
          "autotypenumbers": "strict",
          "coloraxis": {
           "colorbar": {
            "outlinewidth": 0,
            "ticks": ""
           }
          },
          "colorscale": {
           "diverging": [
            [
             0,
             "#8e0152"
            ],
            [
             0.1,
             "#c51b7d"
            ],
            [
             0.2,
             "#de77ae"
            ],
            [
             0.3,
             "#f1b6da"
            ],
            [
             0.4,
             "#fde0ef"
            ],
            [
             0.5,
             "#f7f7f7"
            ],
            [
             0.6,
             "#e6f5d0"
            ],
            [
             0.7,
             "#b8e186"
            ],
            [
             0.8,
             "#7fbc41"
            ],
            [
             0.9,
             "#4d9221"
            ],
            [
             1,
             "#276419"
            ]
           ],
           "sequential": [
            [
             0,
             "#0d0887"
            ],
            [
             0.1111111111111111,
             "#46039f"
            ],
            [
             0.2222222222222222,
             "#7201a8"
            ],
            [
             0.3333333333333333,
             "#9c179e"
            ],
            [
             0.4444444444444444,
             "#bd3786"
            ],
            [
             0.5555555555555556,
             "#d8576b"
            ],
            [
             0.6666666666666666,
             "#ed7953"
            ],
            [
             0.7777777777777778,
             "#fb9f3a"
            ],
            [
             0.8888888888888888,
             "#fdca26"
            ],
            [
             1,
             "#f0f921"
            ]
           ],
           "sequentialminus": [
            [
             0,
             "#0d0887"
            ],
            [
             0.1111111111111111,
             "#46039f"
            ],
            [
             0.2222222222222222,
             "#7201a8"
            ],
            [
             0.3333333333333333,
             "#9c179e"
            ],
            [
             0.4444444444444444,
             "#bd3786"
            ],
            [
             0.5555555555555556,
             "#d8576b"
            ],
            [
             0.6666666666666666,
             "#ed7953"
            ],
            [
             0.7777777777777778,
             "#fb9f3a"
            ],
            [
             0.8888888888888888,
             "#fdca26"
            ],
            [
             1,
             "#f0f921"
            ]
           ]
          },
          "colorway": [
           "#636efa",
           "#EF553B",
           "#00cc96",
           "#ab63fa",
           "#FFA15A",
           "#19d3f3",
           "#FF6692",
           "#B6E880",
           "#FF97FF",
           "#FECB52"
          ],
          "font": {
           "color": "#2a3f5f"
          },
          "geo": {
           "bgcolor": "white",
           "lakecolor": "white",
           "landcolor": "white",
           "showlakes": true,
           "showland": true,
           "subunitcolor": "#C8D4E3"
          },
          "hoverlabel": {
           "align": "left"
          },
          "hovermode": "closest",
          "mapbox": {
           "style": "light"
          },
          "paper_bgcolor": "white",
          "plot_bgcolor": "white",
          "polar": {
           "angularaxis": {
            "gridcolor": "#EBF0F8",
            "linecolor": "#EBF0F8",
            "ticks": ""
           },
           "bgcolor": "white",
           "radialaxis": {
            "gridcolor": "#EBF0F8",
            "linecolor": "#EBF0F8",
            "ticks": ""
           }
          },
          "scene": {
           "xaxis": {
            "backgroundcolor": "white",
            "gridcolor": "#DFE8F3",
            "gridwidth": 2,
            "linecolor": "#EBF0F8",
            "showbackground": true,
            "ticks": "",
            "zerolinecolor": "#EBF0F8"
           },
           "yaxis": {
            "backgroundcolor": "white",
            "gridcolor": "#DFE8F3",
            "gridwidth": 2,
            "linecolor": "#EBF0F8",
            "showbackground": true,
            "ticks": "",
            "zerolinecolor": "#EBF0F8"
           },
           "zaxis": {
            "backgroundcolor": "white",
            "gridcolor": "#DFE8F3",
            "gridwidth": 2,
            "linecolor": "#EBF0F8",
            "showbackground": true,
            "ticks": "",
            "zerolinecolor": "#EBF0F8"
           }
          },
          "shapedefaults": {
           "line": {
            "color": "#2a3f5f"
           }
          },
          "ternary": {
           "aaxis": {
            "gridcolor": "#DFE8F3",
            "linecolor": "#A2B1C6",
            "ticks": ""
           },
           "baxis": {
            "gridcolor": "#DFE8F3",
            "linecolor": "#A2B1C6",
            "ticks": ""
           },
           "bgcolor": "white",
           "caxis": {
            "gridcolor": "#DFE8F3",
            "linecolor": "#A2B1C6",
            "ticks": ""
           }
          },
          "title": {
           "x": 0.05
          },
          "xaxis": {
           "automargin": true,
           "gridcolor": "#EBF0F8",
           "linecolor": "#EBF0F8",
           "ticks": "",
           "title": {
            "standoff": 15
           },
           "zerolinecolor": "#EBF0F8",
           "zerolinewidth": 2
          },
          "yaxis": {
           "automargin": true,
           "gridcolor": "#EBF0F8",
           "linecolor": "#EBF0F8",
           "ticks": "",
           "title": {
            "standoff": 15
           },
           "zerolinecolor": "#EBF0F8",
           "zerolinewidth": 2
          }
         }
        },
        "title": {
         "text": "LTspice circuit – metric distribution"
        },
        "xaxis": {
         "gridcolor": "rgba(150,150,150,0.2)",
         "showgrid": true,
         "title": {
          "text": "metric"
         }
        },
        "yaxis": {
         "gridcolor": "rgba(150,150,150,0.2)",
         "showgrid": true,
         "title": {
          "text": "count"
         }
        }
       }
      }
     },
     "metadata": {},
     "output_type": "display_data"
    },
    {
     "data": {
      "application/vnd.plotly.v1+json": {
       "config": {
        "plotlyServerURL": "https://plot.ly"
       },
       "data": [
        {
         "marker": {
          "color": [
           5.000000000000004,
           5.000000000000008,
           4.999999999999996,
           4.999999999999999,
           4.999999999999992,
           5.000000000000001,
           5.000000000000001,
           4.999999999999996,
           4.999999999999999,
           5,
           4.999999999999992,
           5.000000000000005,
           4.999999999999989,
           4.999999999999999,
           5.000000000000003,
           4.999999999999999,
           5.000000000000004,
           4.999999999999999,
           4.999999999999998,
           5.000000000000004,
           4.999999999999997,
           5.000000000000002,
           4.999999999999998,
           5.000000000000007,
           4.999999999999988,
           4.999999999999999,
           4.999999999999996,
           4.999999999999996,
           4.999999999999996,
           4.999999999999996,
           4.999999999999994,
           5.000000000000005,
           4.999999999999999,
           4.999999999999985,
           4.99999999999999,
           5.000000000000012,
           5.000000000000008,
           5,
           5.000000000000005,
           5.000000000000001,
           5.000000000000003,
           5.000000000000008,
           5.000000000000003,
           4.999999999999998,
           4.999999999999992,
           4.999999999999996,
           4.999999999999998,
           5.000000000000001,
           5.000000000000001,
           5.00000000000002,
           5.000000000000002,
           5.000000000000002,
           5.000000000000006,
           4.999999999999998,
           4.999999999999996,
           5.000000000000007,
           5.000000000000004,
           4.999999999999999,
           4.999999999999999,
           5.000000000000003,
           4.999999999999991,
           4.999999999999996,
           5.000000000000009,
           5.000000000000001,
           5.000000000000013,
           5.000000000000008,
           4.999999999999997,
           5,
           5.000000000000007,
           5.000000000000001,
           4.999999999999999,
           4.999999999999997,
           5.000000000000003,
           5.000000000000004,
           4.999999999999987,
           4.999999999999998,
           4.999999999999997,
           5.000000000000004,
           5.000000000000008,
           4.999999999999996
          ],
          "colorscale": [
           [
            0,
            "#440154"
           ],
           [
            0.1111111111111111,
            "#482878"
           ],
           [
            0.2222222222222222,
            "#3e4989"
           ],
           [
            0.3333333333333333,
            "#31688e"
           ],
           [
            0.4444444444444444,
            "#26828e"
           ],
           [
            0.5555555555555556,
            "#1f9e89"
           ],
           [
            0.6666666666666666,
            "#35b779"
           ],
           [
            0.7777777777777778,
            "#6ece58"
           ],
           [
            0.8888888888888888,
            "#b5de2b"
           ],
           [
            1,
            "#fde725"
           ]
          ],
          "opacity": 0.8,
          "size": 8
         },
         "mode": "markers",
         "type": "scatter",
         "x": [
          10115.504340569709,
          9346.569426794182,
          9000.894805360738,
          9131.571313480948,
          9801.745639707036,
          10964.008009069154,
          9198.696530035168,
          10020.43901483448,
          10557.756243653155,
          10416.459757505834,
          10962.452348859244,
          10842.56125182351,
          9708.941512103864,
          10092.265936704023,
          9416.354896455645,
          10568.912865759625,
          10105.447977318814,
          9921.23518534179,
          9555.530763310107,
          10644.772346757283,
          9648.225658050247,
          9912.956839787035,
          10380.72666633698,
          10309.58701512176,
          10174.761683172792,
          10679.659653375616,
          9688.52870504371,
          9321.845588893735,
          9559.885025020332,
          10115.51253716325,
          10333.183137006816,
          10277.073799012827,
          9296.795144682192,
          10247.821532902954,
          10622.903504805396,
          10004.622607189334,
          9767.347914362444,
          10176.034748919345,
          10010.47688570794,
          9411.385390266438,
          9409.528184136903,
          10145.611598467798,
          10529.293613898064,
          10164.427927641304,
          9390.800355903795,
          10361.326191404743,
          10462.510292456802,
          9272.96873524862,
          10257.041280267633,
          10893.497778187211,
          9458.423101974016,
          9155.004664232696,
          10019.940587181323,
          10599.119271409949,
          10602.04593645897,
          9456.420600562646,
          10772.46214084483,
          10032.91665550035,
          9738.752000294342,
          9133.30888731719,
          10862.81258090342,
          10233.982673687824,
          10240.439394380095,
          10557.912716694604,
          10921.376068128096,
          9311.333451530556,
          10723.550842904828,
          9990.788037351493,
          9365.657429378742,
          9366.779599524389,
          9701.089871547048,
          10651.961937654296,
          10859.165379170685,
          10191.398038765265,
          9672.7734470001,
          10214.714650348562,
          9385.403612848922,
          10169.358900681596,
          10430.000510432625,
          9635.828036043176
         ],
         "y": [
          5.000000000000004,
          5.000000000000008,
          4.999999999999996,
          4.999999999999999,
          4.999999999999992,
          5.000000000000001,
          5.000000000000001,
          4.999999999999996,
          4.999999999999999,
          5,
          4.999999999999992,
          5.000000000000005,
          4.999999999999989,
          4.999999999999999,
          5.000000000000003,
          4.999999999999999,
          5.000000000000004,
          4.999999999999999,
          4.999999999999998,
          5.000000000000004,
          4.999999999999997,
          5.000000000000002,
          4.999999999999998,
          5.000000000000007,
          4.999999999999988,
          4.999999999999999,
          4.999999999999996,
          4.999999999999996,
          4.999999999999996,
          4.999999999999996,
          4.999999999999994,
          5.000000000000005,
          4.999999999999999,
          4.999999999999985,
          4.99999999999999,
          5.000000000000012,
          5.000000000000008,
          5,
          5.000000000000005,
          5.000000000000001,
          5.000000000000003,
          5.000000000000008,
          5.000000000000003,
          4.999999999999998,
          4.999999999999992,
          4.999999999999996,
          4.999999999999998,
          5.000000000000001,
          5.000000000000001,
          5.00000000000002,
          5.000000000000002,
          5.000000000000002,
          5.000000000000006,
          4.999999999999998,
          4.999999999999996,
          5.000000000000007,
          5.000000000000004,
          4.999999999999999,
          4.999999999999999,
          5.000000000000003,
          4.999999999999991,
          4.999999999999996,
          5.000000000000009,
          5.000000000000001,
          5.000000000000013,
          5.000000000000008,
          4.999999999999997,
          5,
          5.000000000000007,
          5.000000000000001,
          4.999999999999999,
          4.999999999999997,
          5.000000000000003,
          5.000000000000004,
          4.999999999999987,
          4.999999999999998,
          4.999999999999997,
          5.000000000000004,
          5.000000000000008,
          4.999999999999996
         ]
        }
       ],
       "layout": {
        "template": {
         "data": {
          "bar": [
           {
            "error_x": {
             "color": "#2a3f5f"
            },
            "error_y": {
             "color": "#2a3f5f"
            },
            "marker": {
             "line": {
              "color": "white",
              "width": 0.5
             },
             "pattern": {
              "fillmode": "overlay",
              "size": 10,
              "solidity": 0.2
             }
            },
            "type": "bar"
           }
          ],
          "barpolar": [
           {
            "marker": {
             "line": {
              "color": "white",
              "width": 0.5
             },
             "pattern": {
              "fillmode": "overlay",
              "size": 10,
              "solidity": 0.2
             }
            },
            "type": "barpolar"
           }
          ],
          "carpet": [
           {
            "aaxis": {
             "endlinecolor": "#2a3f5f",
             "gridcolor": "#C8D4E3",
             "linecolor": "#C8D4E3",
             "minorgridcolor": "#C8D4E3",
             "startlinecolor": "#2a3f5f"
            },
            "baxis": {
             "endlinecolor": "#2a3f5f",
             "gridcolor": "#C8D4E3",
             "linecolor": "#C8D4E3",
             "minorgridcolor": "#C8D4E3",
             "startlinecolor": "#2a3f5f"
            },
            "type": "carpet"
           }
          ],
          "choropleth": [
           {
            "colorbar": {
             "outlinewidth": 0,
             "ticks": ""
            },
            "type": "choropleth"
           }
          ],
          "contour": [
           {
            "colorbar": {
             "outlinewidth": 0,
             "ticks": ""
            },
            "colorscale": [
             [
              0,
              "#0d0887"
             ],
             [
              0.1111111111111111,
              "#46039f"
             ],
             [
              0.2222222222222222,
              "#7201a8"
             ],
             [
              0.3333333333333333,
              "#9c179e"
             ],
             [
              0.4444444444444444,
              "#bd3786"
             ],
             [
              0.5555555555555556,
              "#d8576b"
             ],
             [
              0.6666666666666666,
              "#ed7953"
             ],
             [
              0.7777777777777778,
              "#fb9f3a"
             ],
             [
              0.8888888888888888,
              "#fdca26"
             ],
             [
              1,
              "#f0f921"
             ]
            ],
            "type": "contour"
           }
          ],
          "contourcarpet": [
           {
            "colorbar": {
             "outlinewidth": 0,
             "ticks": ""
            },
            "type": "contourcarpet"
           }
          ],
          "heatmap": [
           {
            "colorbar": {
             "outlinewidth": 0,
             "ticks": ""
            },
            "colorscale": [
             [
              0,
              "#0d0887"
             ],
             [
              0.1111111111111111,
              "#46039f"
             ],
             [
              0.2222222222222222,
              "#7201a8"
             ],
             [
              0.3333333333333333,
              "#9c179e"
             ],
             [
              0.4444444444444444,
              "#bd3786"
             ],
             [
              0.5555555555555556,
              "#d8576b"
             ],
             [
              0.6666666666666666,
              "#ed7953"
             ],
             [
              0.7777777777777778,
              "#fb9f3a"
             ],
             [
              0.8888888888888888,
              "#fdca26"
             ],
             [
              1,
              "#f0f921"
             ]
            ],
            "type": "heatmap"
           }
          ],
          "histogram": [
           {
            "marker": {
             "pattern": {
              "fillmode": "overlay",
              "size": 10,
              "solidity": 0.2
             }
            },
            "type": "histogram"
           }
          ],
          "histogram2d": [
           {
            "colorbar": {
             "outlinewidth": 0,
             "ticks": ""
            },
            "colorscale": [
             [
              0,
              "#0d0887"
             ],
             [
              0.1111111111111111,
              "#46039f"
             ],
             [
              0.2222222222222222,
              "#7201a8"
             ],
             [
              0.3333333333333333,
              "#9c179e"
             ],
             [
              0.4444444444444444,
              "#bd3786"
             ],
             [
              0.5555555555555556,
              "#d8576b"
             ],
             [
              0.6666666666666666,
              "#ed7953"
             ],
             [
              0.7777777777777778,
              "#fb9f3a"
             ],
             [
              0.8888888888888888,
              "#fdca26"
             ],
             [
              1,
              "#f0f921"
             ]
            ],
            "type": "histogram2d"
           }
          ],
          "histogram2dcontour": [
           {
            "colorbar": {
             "outlinewidth": 0,
             "ticks": ""
            },
            "colorscale": [
             [
              0,
              "#0d0887"
             ],
             [
              0.1111111111111111,
              "#46039f"
             ],
             [
              0.2222222222222222,
              "#7201a8"
             ],
             [
              0.3333333333333333,
              "#9c179e"
             ],
             [
              0.4444444444444444,
              "#bd3786"
             ],
             [
              0.5555555555555556,
              "#d8576b"
             ],
             [
              0.6666666666666666,
              "#ed7953"
             ],
             [
              0.7777777777777778,
              "#fb9f3a"
             ],
             [
              0.8888888888888888,
              "#fdca26"
             ],
             [
              1,
              "#f0f921"
             ]
            ],
            "type": "histogram2dcontour"
           }
          ],
          "mesh3d": [
           {
            "colorbar": {
             "outlinewidth": 0,
             "ticks": ""
            },
            "type": "mesh3d"
           }
          ],
          "parcoords": [
           {
            "line": {
             "colorbar": {
              "outlinewidth": 0,
              "ticks": ""
             }
            },
            "type": "parcoords"
           }
          ],
          "pie": [
           {
            "automargin": true,
            "type": "pie"
           }
          ],
          "scatter": [
           {
            "fillpattern": {
             "fillmode": "overlay",
             "size": 10,
             "solidity": 0.2
            },
            "type": "scatter"
           }
          ],
          "scatter3d": [
           {
            "line": {
             "colorbar": {
              "outlinewidth": 0,
              "ticks": ""
             }
            },
            "marker": {
             "colorbar": {
              "outlinewidth": 0,
              "ticks": ""
             }
            },
            "type": "scatter3d"
           }
          ],
          "scattercarpet": [
           {
            "marker": {
             "colorbar": {
              "outlinewidth": 0,
              "ticks": ""
             }
            },
            "type": "scattercarpet"
           }
          ],
          "scattergeo": [
           {
            "marker": {
             "colorbar": {
              "outlinewidth": 0,
              "ticks": ""
             }
            },
            "type": "scattergeo"
           }
          ],
          "scattergl": [
           {
            "marker": {
             "colorbar": {
              "outlinewidth": 0,
              "ticks": ""
             }
            },
            "type": "scattergl"
           }
          ],
          "scattermap": [
           {
            "marker": {
             "colorbar": {
              "outlinewidth": 0,
              "ticks": ""
             }
            },
            "type": "scattermap"
           }
          ],
          "scattermapbox": [
           {
            "marker": {
             "colorbar": {
              "outlinewidth": 0,
              "ticks": ""
             }
            },
            "type": "scattermapbox"
           }
          ],
          "scatterpolar": [
           {
            "marker": {
             "colorbar": {
              "outlinewidth": 0,
              "ticks": ""
             }
            },
            "type": "scatterpolar"
           }
          ],
          "scatterpolargl": [
           {
            "marker": {
             "colorbar": {
              "outlinewidth": 0,
              "ticks": ""
             }
            },
            "type": "scatterpolargl"
           }
          ],
          "scatterternary": [
           {
            "marker": {
             "colorbar": {
              "outlinewidth": 0,
              "ticks": ""
             }
            },
            "type": "scatterternary"
           }
          ],
          "surface": [
           {
            "colorbar": {
             "outlinewidth": 0,
             "ticks": ""
            },
            "colorscale": [
             [
              0,
              "#0d0887"
             ],
             [
              0.1111111111111111,
              "#46039f"
             ],
             [
              0.2222222222222222,
              "#7201a8"
             ],
             [
              0.3333333333333333,
              "#9c179e"
             ],
             [
              0.4444444444444444,
              "#bd3786"
             ],
             [
              0.5555555555555556,
              "#d8576b"
             ],
             [
              0.6666666666666666,
              "#ed7953"
             ],
             [
              0.7777777777777778,
              "#fb9f3a"
             ],
             [
              0.8888888888888888,
              "#fdca26"
             ],
             [
              1,
              "#f0f921"
             ]
            ],
            "type": "surface"
           }
          ],
          "table": [
           {
            "cells": {
             "fill": {
              "color": "#EBF0F8"
             },
             "line": {
              "color": "white"
             }
            },
            "header": {
             "fill": {
              "color": "#C8D4E3"
             },
             "line": {
              "color": "white"
             }
            },
            "type": "table"
           }
          ]
         },
         "layout": {
          "annotationdefaults": {
           "arrowcolor": "#2a3f5f",
           "arrowhead": 0,
           "arrowwidth": 1
          },
          "autotypenumbers": "strict",
          "coloraxis": {
           "colorbar": {
            "outlinewidth": 0,
            "ticks": ""
           }
          },
          "colorscale": {
           "diverging": [
            [
             0,
             "#8e0152"
            ],
            [
             0.1,
             "#c51b7d"
            ],
            [
             0.2,
             "#de77ae"
            ],
            [
             0.3,
             "#f1b6da"
            ],
            [
             0.4,
             "#fde0ef"
            ],
            [
             0.5,
             "#f7f7f7"
            ],
            [
             0.6,
             "#e6f5d0"
            ],
            [
             0.7,
             "#b8e186"
            ],
            [
             0.8,
             "#7fbc41"
            ],
            [
             0.9,
             "#4d9221"
            ],
            [
             1,
             "#276419"
            ]
           ],
           "sequential": [
            [
             0,
             "#0d0887"
            ],
            [
             0.1111111111111111,
             "#46039f"
            ],
            [
             0.2222222222222222,
             "#7201a8"
            ],
            [
             0.3333333333333333,
             "#9c179e"
            ],
            [
             0.4444444444444444,
             "#bd3786"
            ],
            [
             0.5555555555555556,
             "#d8576b"
            ],
            [
             0.6666666666666666,
             "#ed7953"
            ],
            [
             0.7777777777777778,
             "#fb9f3a"
            ],
            [
             0.8888888888888888,
             "#fdca26"
            ],
            [
             1,
             "#f0f921"
            ]
           ],
           "sequentialminus": [
            [
             0,
             "#0d0887"
            ],
            [
             0.1111111111111111,
             "#46039f"
            ],
            [
             0.2222222222222222,
             "#7201a8"
            ],
            [
             0.3333333333333333,
             "#9c179e"
            ],
            [
             0.4444444444444444,
             "#bd3786"
            ],
            [
             0.5555555555555556,
             "#d8576b"
            ],
            [
             0.6666666666666666,
             "#ed7953"
            ],
            [
             0.7777777777777778,
             "#fb9f3a"
            ],
            [
             0.8888888888888888,
             "#fdca26"
            ],
            [
             1,
             "#f0f921"
            ]
           ]
          },
          "colorway": [
           "#636efa",
           "#EF553B",
           "#00cc96",
           "#ab63fa",
           "#FFA15A",
           "#19d3f3",
           "#FF6692",
           "#B6E880",
           "#FF97FF",
           "#FECB52"
          ],
          "font": {
           "color": "#2a3f5f"
          },
          "geo": {
           "bgcolor": "white",
           "lakecolor": "white",
           "landcolor": "white",
           "showlakes": true,
           "showland": true,
           "subunitcolor": "#C8D4E3"
          },
          "hoverlabel": {
           "align": "left"
          },
          "hovermode": "closest",
          "mapbox": {
           "style": "light"
          },
          "paper_bgcolor": "white",
          "plot_bgcolor": "white",
          "polar": {
           "angularaxis": {
            "gridcolor": "#EBF0F8",
            "linecolor": "#EBF0F8",
            "ticks": ""
           },
           "bgcolor": "white",
           "radialaxis": {
            "gridcolor": "#EBF0F8",
            "linecolor": "#EBF0F8",
            "ticks": ""
           }
          },
          "scene": {
           "xaxis": {
            "backgroundcolor": "white",
            "gridcolor": "#DFE8F3",
            "gridwidth": 2,
            "linecolor": "#EBF0F8",
            "showbackground": true,
            "ticks": "",
            "zerolinecolor": "#EBF0F8"
           },
           "yaxis": {
            "backgroundcolor": "white",
            "gridcolor": "#DFE8F3",
            "gridwidth": 2,
            "linecolor": "#EBF0F8",
            "showbackground": true,
            "ticks": "",
            "zerolinecolor": "#EBF0F8"
           },
           "zaxis": {
            "backgroundcolor": "white",
            "gridcolor": "#DFE8F3",
            "gridwidth": 2,
            "linecolor": "#EBF0F8",
            "showbackground": true,
            "ticks": "",
            "zerolinecolor": "#EBF0F8"
           }
          },
          "shapedefaults": {
           "line": {
            "color": "#2a3f5f"
           }
          },
          "ternary": {
           "aaxis": {
            "gridcolor": "#DFE8F3",
            "linecolor": "#A2B1C6",
            "ticks": ""
           },
           "baxis": {
            "gridcolor": "#DFE8F3",
            "linecolor": "#A2B1C6",
            "ticks": ""
           },
           "bgcolor": "white",
           "caxis": {
            "gridcolor": "#DFE8F3",
            "linecolor": "#A2B1C6",
            "ticks": ""
           }
          },
          "title": {
           "x": 0.05
          },
          "xaxis": {
           "automargin": true,
           "gridcolor": "#EBF0F8",
           "linecolor": "#EBF0F8",
           "ticks": "",
           "title": {
            "standoff": 15
           },
           "zerolinecolor": "#EBF0F8",
           "zerolinewidth": 2
          },
          "yaxis": {
           "automargin": true,
           "gridcolor": "#EBF0F8",
           "linecolor": "#EBF0F8",
           "ticks": "",
           "title": {
            "standoff": 15
           },
           "zerolinecolor": "#EBF0F8",
           "zerolinewidth": 2
          }
         }
        },
        "title": {
         "text": "LTspice circuit – impact of Resistor.R1"
        },
        "xaxis": {
         "gridcolor": "rgba(150,150,150,0.2)",
         "showgrid": true,
         "title": {
          "text": "Resistor.R1"
         }
        },
        "yaxis": {
         "gridcolor": "rgba(150,150,150,0.2)",
         "showgrid": true,
         "title": {
          "text": "vout_final"
         }
        }
       }
      }
     },
     "metadata": {},
     "output_type": "display_data"
    }
   ],
   "source": [
    "# Visualise the LTspice results\n",
    "lt_metrics = lt_df[\"vout_final\"].to_list()\n",
    "show_mc_plots(lt_mc.samples, lt_metrics, \"Resistor.R1\", title_prefix=\"LTspice circuit\")"
   ]
  },
  {
   "cell_type": "markdown",
   "id": "c8a2d788",
   "metadata": {},
   "source": [
    "### Next steps\n",
    "\n",
    "- Tweak `TRANSIENT` to experiment with AC analyses or sample traces at specific times (`y=[...]` with `sample_at`).\n",
    "- Swap `metric_vout_final` for a function that computes gain, rise time, or any KPI relevant to your circuit.\n",
    "- For `.cir` netlists use `spicelab.io.ltspice_parser.from_ltspice_file` and reuse the same helpers above."
   ]
  }
 ],
 "metadata": {
  "kernelspec": {
   "display_name": ".venv310",
   "language": "python",
   "name": "python3"
  },
  "language_info": {
   "codemirror_mode": {
    "name": "ipython",
    "version": 3
   },
   "file_extension": ".py",
   "mimetype": "text/x-python",
   "name": "python",
   "nbconvert_exporter": "python",
   "pygments_lexer": "ipython3",
   "version": "3.10.18"
  }
 },
 "nbformat": 4,
 "nbformat_minor": 5
}
