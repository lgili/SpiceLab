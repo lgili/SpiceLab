{
 "cells": [
  {
   "cell_type": "markdown",
   "id": "ac03c0a9",
   "metadata": {},
   "source": [
    "# spicelab — Getting Started\n",
    "\n",
    "This notebook introduces spicelab: creating a simple RC circuit, running a transient analysis with NGSpice, and inspecting results as xarray Datasets.\n",
    "\n",
    "Prerequisites:\n",
    "- Python 3.10+\n",
    "- `pip install spicelab`\n",
    "- Optional: NGSpice installed and discoverable on PATH (or set `SPICELAB_NGSPICE`)."
   ]
  },
  {
   "cell_type": "code",
   "execution_count": 3,
   "id": "ddbb40d3",
   "metadata": {},
   "outputs": [
    {
     "ename": "ModuleNotFoundError",
     "evalue": "No module named 'spicelab'",
     "output_type": "error",
     "traceback": [
      "\u001b[0;31m---------------------------------------------------------------------------\u001b[0m",
      "\u001b[0;31mModuleNotFoundError\u001b[0m                       Traceback (most recent call last)",
      "Cell \u001b[0;32mIn[3], line 2\u001b[0m\n\u001b[1;32m      1\u001b[0m \u001b[38;5;66;03m# Imports\u001b[39;00m\n\u001b[0;32m----> 2\u001b[0m \u001b[38;5;28;01mfrom\u001b[39;00m\u001b[38;5;250m \u001b[39m\u001b[38;5;21;01mspicelab\u001b[39;00m\u001b[38;5;21;01m.\u001b[39;00m\u001b[38;5;21;01mcore\u001b[39;00m\u001b[38;5;21;01m.\u001b[39;00m\u001b[38;5;21;01mcircuit\u001b[39;00m\u001b[38;5;250m \u001b[39m\u001b[38;5;28;01mimport\u001b[39;00m Circuit\n\u001b[1;32m      3\u001b[0m \u001b[38;5;28;01mfrom\u001b[39;00m\u001b[38;5;250m \u001b[39m\u001b[38;5;21;01mspicelab\u001b[39;00m\u001b[38;5;21;01m.\u001b[39;00m\u001b[38;5;21;01mcore\u001b[39;00m\u001b[38;5;21;01m.\u001b[39;00m\u001b[38;5;21;01mcomponents\u001b[39;00m\u001b[38;5;250m \u001b[39m\u001b[38;5;28;01mimport\u001b[39;00m Vdc, Resistor, Capacitor\n\u001b[1;32m      4\u001b[0m \u001b[38;5;28;01mfrom\u001b[39;00m\u001b[38;5;250m \u001b[39m\u001b[38;5;21;01mspicelab\u001b[39;00m\u001b[38;5;21;01m.\u001b[39;00m\u001b[38;5;21;01mcore\u001b[39;00m\u001b[38;5;21;01m.\u001b[39;00m\u001b[38;5;21;01mnet\u001b[39;00m\u001b[38;5;250m \u001b[39m\u001b[38;5;28;01mimport\u001b[39;00m GND\n",
      "\u001b[0;31mModuleNotFoundError\u001b[0m: No module named 'spicelab'"
     ]
    }
   ],
   "source": [
    "# Imports\n",
    "from spicelab.core.circuit import Circuit\n",
    "from spicelab.core.components import Capacitor, Resistor, Vdc\n",
    "from spicelab.core.net import GND\n",
    "from spicelab.core.types import AnalysisSpec\n",
    "from spicelab.engines import run_simulation"
   ]
  },
  {
   "cell_type": "code",
   "execution_count": null,
   "id": "1b3a4586",
   "metadata": {},
   "outputs": [],
   "source": [
    "# Build a simple RC low-pass\n",
    "c = Circuit(\"rc_lowpass\")\n",
    "V1 = Vdc(\"VIN\", 5.0)\n",
    "R1 = Resistor(\"R\", \"1k\")\n",
    "C1 = Capacitor(\"C\", \"100n\")\n",
    "for comp in (V1, R1, C1):\n",
    "    c.add(comp)\n",
    "c.connect(V1.ports[0], R1.ports[0])\n",
    "c.connect(R1.ports[1], C1.ports[0])\n",
    "c.connect(V1.ports[1], GND)\n",
    "c.connect(C1.ports[1], GND)\n",
    "c"
   ]
  },
  {
   "cell_type": "code",
   "execution_count": null,
   "id": "94e4ae1f",
   "metadata": {},
   "outputs": [],
   "source": [
    "# Define and run a transient analysis\n",
    "tran = AnalysisSpec(\"tran\", {\"tstep\": \"10us\", \"tstop\": \"5ms\"})\n",
    "handle = run_simulation(c, [tran], engine=\"ngspice\")\n",
    "ds = handle.dataset()\n",
    "ds"
   ]
  },
  {
   "cell_type": "markdown",
   "id": "6e9c6b09",
   "metadata": {},
   "source": [
    "## Plot a signal\n",
    "Use the Plotly helper if you installed the `viz` extra (`pip install \"spicelab[viz]\"`)."
   ]
  },
  {
   "cell_type": "code",
   "execution_count": null,
   "id": "460165f3",
   "metadata": {},
   "outputs": [],
   "source": [
    "# Optional plotting (requires plotly)\n",
    "try:\n",
    "    from spicelab.viz.plotly import timeseries\n",
    "\n",
    "    fig = timeseries(ds, signals=[\"V(C)\"], title=\"RC low-pass output\")\n",
    "    fig.show()\n",
    "except Exception as exc:\n",
    "    print(f\"Plotly not available or plotting failed: {exc}\")"
   ]
  }
 ],
 "metadata": {
  "kernelspec": {
   "display_name": ".venv310",
   "language": "python",
   "name": "python3"
  },
  "language_info": {
   "codemirror_mode": {
    "name": "ipython",
    "version": 3
   },
   "file_extension": ".py",
   "mimetype": "text/x-python",
   "name": "python",
   "nbconvert_exporter": "python",
   "pygments_lexer": "ipython3",
   "version": "3.10.18"
  }
 },
 "nbformat": 4,
 "nbformat_minor": 5
}
