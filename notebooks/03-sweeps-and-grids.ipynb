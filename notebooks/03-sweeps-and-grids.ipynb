{
 "cells": [
  {
   "cell_type": "markdown",
   "id": "f5b48c05",
   "metadata": {},
   "source": [
    "# Sweeps & Grids\n",
    "Run a simple value sweep over a resistor and collect outputs."
   ]
  },
  {
   "cell_type": "code",
   "execution_count": null,
   "id": "7151b0e3",
   "metadata": {},
   "outputs": [],
   "source": [
    "from spicelab.analysis.sweep_grid import run_value_sweep\n",
    "from spicelab.core.circuit import Circuit\n",
    "from spicelab.core.components import Capacitor, Resistor, Vdc\n",
    "from spicelab.core.net import GND\n",
    "from spicelab.core.types import AnalysisSpec\n",
    "\n",
    "c = Circuit(\"rc\")\n",
    "V1 = Vdc(\"VIN\", 5.0)\n",
    "R1 = Resistor(\"R\", \"1k\")\n",
    "C1 = Capacitor(\"C\", \"100n\")\n",
    "for comp in (V1, R1, C1):\n",
    "    c.add(comp)\n",
    "c.connect(V1.ports[0], R1.ports[0])\n",
    "c.connect(R1.ports[1], C1.ports[0])\n",
    "c.connect(V1.ports[1], GND)\n",
    "c.connect(C1.ports[1], GND)\n",
    "\n",
    "tran = AnalysisSpec(\"tran\", {\"tstep\": \"10us\", \"tstop\": \"2ms\"})\n",
    "sweep = run_value_sweep(\n",
    "    circuit=c, component=R1, values=[\"1k\", \"2k\", \"5k\"], analyses=[tran], engine=\"ngspice\"\n",
    ")\n",
    "[(run.value, list(run.handle.dataset().data_vars)) for run in sweep.runs]"
   ]
  }
 ],
 "metadata": {
  "language_info": {
   "name": "python"
  }
 },
 "nbformat": 4,
 "nbformat_minor": 5
}
