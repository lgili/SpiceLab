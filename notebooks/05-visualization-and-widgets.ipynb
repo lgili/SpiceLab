{
 "cells": [
  {
   "cell_type": "markdown",
   "id": "5f48647a",
   "metadata": {},
   "source": [
    "# Visualization & Widgets\n",
    "Plot with Plotly and explore datasets via interactive widgets."
   ]
  },
  {
   "cell_type": "code",
   "execution_count": null,
   "id": "9f034d88",
   "metadata": {},
   "outputs": [],
   "source": [
    "# Build a dataset (reuse RC example)\n",
    "from spicelab.core.circuit import Circuit\n",
    "from spicelab.core.components import Capacitor, Resistor, Vdc\n",
    "from spicelab.core.net import GND\n",
    "from spicelab.core.types import AnalysisSpec\n",
    "from spicelab.engines import run_simulation\n",
    "\n",
    "c = Circuit(\"rc_lowpass\")\n",
    "V1 = Vdc(\"VIN\", 5.0)\n",
    "R1 = Resistor(\"R\", \"1k\")\n",
    "C1 = Capacitor(\"C\", \"100n\")\n",
    "for comp in (V1, R1, C1):\n",
    "    c.add(comp)\n",
    "c.connect(V1.ports[0], R1.ports[0])\n",
    "c.connect(R1.ports[1], C1.ports[0])\n",
    "c.connect(V1.ports[1], GND)\n",
    "c.connect(C1.ports[1], GND)\n",
    "tran = AnalysisSpec(\"tran\", {\"tstep\": \"10us\", \"tstop\": \"5ms\"})\n",
    "ds = run_simulation(c, [tran], engine=\"ngspice\").dataset()\n",
    "list(ds.data_vars)"
   ]
  },
  {
   "cell_type": "code",
   "execution_count": null,
   "id": "682e8015",
   "metadata": {},
   "outputs": [],
   "source": [
    "# Plot with Plotly (optional)\n",
    "try:\n",
    "    from spicelab.viz.plotly import timeseries\n",
    "\n",
    "    fig = timeseries(ds, signals=[\"V(C)\"], title=\"V(C) over time\")\n",
    "    fig.show()\n",
    "except Exception as exc:\n",
    "    print(f\"Plotly not available or plotting failed: {exc}\")"
   ]
  },
  {
   "cell_type": "code",
   "execution_count": null,
   "id": "e14dac47",
   "metadata": {},
   "outputs": [],
   "source": [
    "# Interactive widgets (in Jupyter/VS Code)\n",
    "try:\n",
    "    from spicelab.viz.notebook import dataset_plot_widget\n",
    "\n",
    "    dataset_plot_widget(ds)\n",
    "except Exception as exc:\n",
    "    print(f\"Widgets not available: {exc}\")"
   ]
  }
 ],
 "metadata": {
  "language_info": {
   "name": "python"
  }
 },
 "nbformat": 4,
 "nbformat_minor": 5
}
