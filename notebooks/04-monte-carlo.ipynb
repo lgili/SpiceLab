{
 "cells": [
  {
   "cell_type": "markdown",
   "id": "73a4ee3f",
   "metadata": {},
   "source": [
    "# Monte Carlo\n",
    "Map components to distributions, run trials, and inspect results."
   ]
  },
  {
   "cell_type": "code",
   "execution_count": null,
   "id": "433bfee0",
   "metadata": {},
   "outputs": [],
   "source": [
    "from spicelab.analysis import NormalPct, monte_carlo\n",
    "from spicelab.core.circuit import Circuit\n",
    "from spicelab.core.components import Resistor, Vdc\n",
    "from spicelab.core.net import GND\n",
    "from spicelab.core.types import AnalysisSpec\n",
    "\n",
    "c = Circuit(\"mc_demo\")\n",
    "V1 = Vdc(\"VIN\", 1.0)\n",
    "R1 = Resistor(\"R\", \"1k\")\n",
    "c.add(V1)\n",
    "c.add(R1)\n",
    "c.connect(V1.ports[0], R1.ports[0])\n",
    "c.connect(V1.ports[1], GND)\n",
    "c.connect(R1.ports[1], GND)\n",
    "\n",
    "op = AnalysisSpec(\"op\", {})\n",
    "mc = monte_carlo(\n",
    "    circuit=c, mapping={R1: NormalPct(0.05)}, n=128, analyses=[op], engine=\"ngspice\", seed=42\n",
    ")\n",
    "df = mc.to_dataframe(metric=None, param_prefix=\"param_\")\n",
    "df.head()"
   ]
  },
  {
   "cell_type": "markdown",
   "id": "f36c4a0a",
   "metadata": {},
   "source": [
    "## Visualize histogram\n",
    "Use Plotly helper with a normal-fit overlay (requires `spicelab[viz]`)."
   ]
  },
  {
   "cell_type": "code",
   "execution_count": null,
   "id": "b5e769ac",
   "metadata": {},
   "outputs": [],
   "source": [
    "try:\n",
    "    from spicelab.viz.plotly import monte_carlo_histogram\n",
    "\n",
    "    fig = monte_carlo_histogram({\"R_value\": df[\"param_R\"]}, title=\"R (Monte Carlo)\")\n",
    "    fig.show()\n",
    "except Exception as exc:\n",
    "    print(f\"Plotly not available or plotting failed: {exc}\")"
   ]
  }
 ],
 "metadata": {
  "language_info": {
   "name": "python"
  }
 },
 "nbformat": 4,
 "nbformat_minor": 5
}
