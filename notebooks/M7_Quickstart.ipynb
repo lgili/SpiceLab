{
 "cells": [
  {
   "cell_type": "markdown",
   "id": "dcb03b11",
   "metadata": {},
   "source": [
    "# M7 Quickstart: Measurements and CLI\n",
    "This notebook demonstrates the new measurement helpers and CLI schema/ordering introduced in M7."
   ]
  },
  {
   "cell_type": "code",
   "execution_count": null,
   "id": "d75a76a6",
   "metadata": {},
   "outputs": [],
   "source": [
    "from pathlib import Path\n",
    "\n",
    "from spicelab.analysis.measure import (\n",
    "    ENOBSpec,\n",
    "    GainBandwidthSpec,\n",
    "    GainMarginSpec,\n",
    "    PhaseMarginSpec,\n",
    "    RiseTimeSpec,\n",
    "    THDSpec,\n",
    "    measure,\n",
    ")\n",
    "from spicelab.io import load_dataset\n",
    "\n",
    "ac_raw = Path(\"tests/fixtures/rc_ac_ng.raw\")\n",
    "tran_raw = Path(\"tests/fixtures/rc_tran_ng.raw\")\n",
    "ds_ac = load_dataset(ac_raw, allow_binary=True)\n",
    "ds_tr = load_dataset(tran_raw, allow_binary=True)\n",
    "rows_ac = measure(\n",
    "    ds_ac,\n",
    "    [\n",
    "        PhaseMarginSpec(name=\"pm\", numerator=\"V(out)\", denominator=\"I(R1)\"),\n",
    "        GainBandwidthSpec(name=\"gbw\", numerator=\"V(out)\", denominator=\"I(R1)\"),\n",
    "        GainMarginSpec(name=\"gm\", numerator=\"V(out)\", denominator=\"I(R1)\"),\n",
    "    ],\n",
    "    return_as=\"python\",\n",
    ")\n",
    "rows_tr = measure(\n",
    "    ds_tr,\n",
    "    [\n",
    "        RiseTimeSpec(name=\"tr\", signal=\"V(out)\"),\n",
    "        THDSpec(name=\"thd\", signal=\"V(out)\", harmonics=5, f0=None),\n",
    "        ENOBSpec(name=\"enob\", signal=\"V(out)\", harmonics=5, f0=None),\n",
    "    ],\n",
    "    return_as=\"python\",\n",
    ")\n",
    "rows_ac, rows_tr[:2]  # show a preview"
   ]
  },
  {
   "cell_type": "markdown",
   "id": "0aa52186",
   "metadata": {},
   "source": [
    "## CLI schema and listing\n",
    "You can inspect available signals and print a schema-only CSV header without executing any measurement."
   ]
  },
  {
   "cell_type": "code",
   "execution_count": null,
   "id": "82cf7494",
   "metadata": {},
   "outputs": [],
   "source": [
    "import subprocess\n",
    "import sys\n",
    "\n",
    "schema = subprocess.check_output(\n",
    "    [\n",
    "        sys.executable,\n",
    "        \"-m\",\n",
    "        \"spicelab.cli.measure\",\n",
    "        str(ac_raw),\n",
    "        \"--ac\",\n",
    "        \"--num\",\n",
    "        \"V(out)\",\n",
    "        \"--den\",\n",
    "        \"I(R1)\",\n",
    "        \"--format\",\n",
    "        \"schema\",\n",
    "    ]\n",
    ").decode()\n",
    "signals = (\n",
    "    subprocess.check_output(\n",
    "        [\n",
    "            sys.executable,\n",
    "            \"-m\",\n",
    "            \"spicelab.cli.measure\",\n",
    "            str(ac_raw),\n",
    "            \"--list-signals\",\n",
    "            \"--list-details\",\n",
    "            \"--format\",\n",
    "            \"csv\",\n",
    "        ]\n",
    "    )\n",
    "    .decode()\n",
    "    .splitlines()[:5]\n",
    ")\n",
    "schema, signals"
   ]
  }
 ],
 "metadata": {
  "language_info": {
   "name": "python"
  }
 },
 "nbformat": 4,
 "nbformat_minor": 5
}
