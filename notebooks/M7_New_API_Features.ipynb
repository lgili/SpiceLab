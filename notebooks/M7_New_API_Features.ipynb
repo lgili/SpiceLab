{
 "cells": [
  {
   "cell_type": "markdown",
   "id": "95fb59cc",
   "metadata": {},
   "source": [
    "# M7 New API Features\n",
    "This notebook shows stable column ordering and sanitized headers via the orchestrator helpers, matching the CLI."
   ]
  },
  {
   "cell_type": "code",
   "execution_count": null,
   "id": "2404d039",
   "metadata": {},
   "outputs": [],
   "source": [
    "from spicelab.analysis import GainBandwidthSpec, GainMarginSpec, PhaseMarginSpec, run_and_measure\n",
    "from spicelab.core.circuit import Circuit\n",
    "from spicelab.core.components import VA, C, Resistor\n",
    "from spicelab.core.net import GND, Net\n",
    "from spicelab.core.types import AnalysisSpec, SweepSpec\n",
    "from spicelab.orchestrator import Job\n",
    "\n",
    "\n",
    "def build_rc():\n",
    "    c = Circuit(\"rc_ac\")\n",
    "    n_in, n_out = Net(\"vin\"), Net(\"out\")\n",
    "    vin = VA(ac_mag=1.0)\n",
    "    r = Resistor(\"R1\", \"1k\")\n",
    "    cap = C(\"1u\")\n",
    "    c.add(vin, r, cap)\n",
    "    c.connect(vin.ports[0], n_in)\n",
    "    c.connect(vin.ports[1], GND)\n",
    "    c.connect(r.ports[0], n_in)\n",
    "    c.connect(r.ports[1], n_out)\n",
    "    c.connect(cap.ports[0], n_out)\n",
    "    c.connect(cap.ports[1], GND)\n",
    "    return c\n",
    "\n",
    "\n",
    "circ = build_rc()\n",
    "ac = AnalysisSpec(\"ac\", {\"sweep_type\": \"dec\", \"n\": 50, \"fstart\": 10.0, \"fstop\": 1e6})\n",
    "sweep = SweepSpec(variables={\"R1\": [1e3, 2e3, 5e3]})\n",
    "job = Job(circuit=circ, analyses=[ac], sweep=sweep, engine=\"ngspice\")\n",
    "\n",
    "rows = run_and_measure(\n",
    "    job,\n",
    "    [\n",
    "        PhaseMarginSpec(name=\"pm\", numerator=\"V(out)\", denominator=\"V(vin)\"),\n",
    "        GainBandwidthSpec(name=\"gbw\", numerator=\"V(out)\", denominator=\"V(vin)\"),\n",
    "        GainMarginSpec(name=\"gm\", numerator=\"V(out)\", denominator=\"V(vin)\"),\n",
    "    ],\n",
    "    return_as=\"python\",\n",
    ")\n",
    "\n",
    "rows[:3]"
   ]
  }
 ],
 "metadata": {
  "language_info": {
   "name": "python"
  }
 },
 "nbformat": 4,
 "nbformat_minor": 5
}
