{
 "cells": [
  {
   "cell_type": "markdown",
   "id": "95932617",
   "metadata": {},
   "source": [
    "# Engines & Setup\n",
    "This notebook shows how to select engines and diagnose environment issues."
   ]
  },
  {
   "cell_type": "code",
   "execution_count": null,
   "id": "14b9c699",
   "metadata": {},
   "outputs": [],
   "source": [
    "# Check your environment\n",
    "from spicelab import doctor\n",
    "\n",
    "for item in doctor.collect_diagnostics():\n",
    "    print(f\"{item.target:24} — {item.status:6} : {item.detail or ''}\")"
   ]
  },
  {
   "cell_type": "code",
   "execution_count": null,
   "id": "4dc40696",
   "metadata": {},
   "outputs": [],
   "source": [
    "# Choosing an engine when running\n",
    "from spicelab.core.circuit import Circuit\n",
    "from spicelab.core.components import Resistor, Vdc\n",
    "from spicelab.core.net import GND\n",
    "from spicelab.core.types import AnalysisSpec\n",
    "from spicelab.engines import run_simulation\n",
    "\n",
    "c = Circuit(\"simple_load\")\n",
    "V1 = Vdc(\"VIN\", 5.0)\n",
    "R1 = Resistor(\"R\", \"1k\")\n",
    "c.add(V1)\n",
    "c.add(R1)\n",
    "c.connect(V1.ports[0], R1.ports[0])\n",
    "c.connect(V1.ports[1], GND)\n",
    "c.connect(R1.ports[1], GND)\n",
    "\n",
    "op = AnalysisSpec(\"op\", {})\n",
    "handle = run_simulation(c, [op], engine=\"ngspice\")\n",
    "handle.dataset().data_vars"
   ]
  }
 ],
 "metadata": {
  "language_info": {
   "name": "python"
  }
 },
 "nbformat": 4,
 "nbformat_minor": 5
}
