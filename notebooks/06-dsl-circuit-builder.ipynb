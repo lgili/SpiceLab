{
 "cells": [
  {
   "cell_type": "markdown",
   "id": "64e06737",
   "metadata": {},
   "source": [
    "# DSL Circuit Builder\n",
    "Use the high-level builder to create circuits quickly."
   ]
  },
  {
   "cell_type": "code",
   "execution_count": null,
   "id": "dadbee70",
   "metadata": {},
   "outputs": [],
   "source": [
    "from spicelab.dsl import CircuitBuilder\n",
    "from spicelab.viz.notebook import connectivity_widget\n",
    "\n",
    "builder = CircuitBuilder(\"rc_filter\")\n",
    "builder.vdc(\"vin\", \"gnd\", value=\"5\")\n",
    "builder.resistor(\"vin\", \"vout\", value=\"1k\")\n",
    "builder.capacitor(\"vout\", \"gnd\", value=\"220n\")\n",
    "circuit = builder.build()\n",
    "connectivity_widget(circuit)"
   ]
  }
 ],
 "metadata": {
  "language_info": {
   "name": "python"
  }
 },
 "nbformat": 4,
 "nbformat_minor": 5
}
